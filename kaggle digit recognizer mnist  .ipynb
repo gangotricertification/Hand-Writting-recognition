{
  "cells": [
    {
      "metadata": {
        "_uuid": "8f2839f25d086af736a60e9eeb907d3b93b6e0e5",
        "_cell_guid": "b1076dfc-b9ad-4769-8c92-a6c4dae69d19",
        "trusted": true
      },
      "cell_type": "code",
      "source": "# This Python 3 environment comes with many helpful analytics libraries installed\n# It is defined by the kaggle/python docker image: https://github.com/kaggle/docker-python\n# For example, here's several helpful packages to load in \n\nimport numpy as np # linear algebra\nimport pandas as pd # data processing, CSV file I/O (e.g. pd.read_csv)\n\n# Input data files are available in the \"../input/\" directory.\n# For example, running this (by clicking run or pressing Shift+Enter) will list the files in the input directory\n\nimport os\nprint(os.listdir(\"../input\"))\n\n# Any results you write to the current directory are saved as output.",
      "execution_count": null,
      "outputs": []
    },
    {
      "metadata": {
        "_cell_guid": "79c7e3d0-c299-4dcb-8224-4455121ee9b0",
        "_uuid": "d629ff2d2480ee46fbb7e2d37f6b5fab8052498a",
        "trusted": true
      },
      "cell_type": "code",
      "source": "from sklearn.model_selection import train_test_split\nimport pandas as pd\nimport cv2\nfrom keras.utils import np_utils\nimport numpy as np\nimport matplotlib.pyplot as plt\ntest=pd.read_csv(\"../input/test.csv\")\ntrain=pd.read_csv(\"../input/train.csv\")",
      "execution_count": null,
      "outputs": []
    },
    {
      "metadata": {
        "trusted": true,
        "_uuid": "46335e2b2809eab79bbc4abfbdc7d0bf4162eac8"
      },
      "cell_type": "code",
      "source": "x_train=train\ny_train=train['label']\n#y_train=np_utils.to_categorical(y_train)\nx_train.drop(['label'],axis=1,inplace=True)\nx_train=np.array(x_train)  ",
      "execution_count": null,
      "outputs": []
    },
    {
      "metadata": {
        "trusted": true,
        "_uuid": "afa5749a3b075e8635b8993976b9da7237477e88"
      },
      "cell_type": "code",
      "source": "x_train_image=x_train.reshape(42000,28,28)\nx_train=x_train/255\nx_test=np.array(test)\nx_test=x_test/255\nx_test_image=x_test.reshape(28000,28,28)\nx_train.astype",
      "execution_count": null,
      "outputs": []
    },
    {
      "metadata": {
        "trusted": true,
        "_uuid": "a05686884046ab196bb8c12d76e5fb2ff23a0f90"
      },
      "cell_type": "code",
      "source": "train_x,test_x,train_y,test_y=train_test_split(x_train,y_train,test_size=0.30)",
      "execution_count": null,
      "outputs": []
    },
    {
      "metadata": {
        "trusted": true,
        "_uuid": "f34b9ca7c06ca3a531ef6d58046014253b4f2a1a"
      },
      "cell_type": "code",
      "source": "from sklearn.naive_bayes import MultinomialNB",
      "execution_count": null,
      "outputs": []
    },
    {
      "metadata": {
        "trusted": true,
        "_uuid": "e20ef49c0fd96c81cba00e4ce7f9c87b9ba1e889"
      },
      "cell_type": "code",
      "source": "clss=MultinomialNB()\nclss.fit(train_x,train_y)",
      "execution_count": null,
      "outputs": []
    },
    {
      "metadata": {
        "trusted": true,
        "_uuid": "97c55d5bce9ba203bd93697002c668023081a308"
      },
      "cell_type": "code",
      "source": "clss.score(test_x,test_y)",
      "execution_count": null,
      "outputs": []
    },
    {
      "metadata": {
        "trusted": true,
        "_uuid": "5c12cd43cebaea078ff4ef19065bb2bd62f85296"
      },
      "cell_type": "code",
      "source": "from sklearn.metrics import classification_report\npredictions=clss.predict(test_x)\n#print(classification_report(test_y,predictions))",
      "execution_count": null,
      "outputs": []
    },
    {
      "metadata": {
        "trusted": true,
        "_uuid": "52e2ed1a2d663f545ad3019ebaf3bd01d867402b"
      },
      "cell_type": "code",
      "source": "predictions=clss.predict(x_test)\ns=x_test[0].reshape(28,28)\nplt.imshow(s)\nprint(predictions[0])",
      "execution_count": null,
      "outputs": []
    },
    {
      "metadata": {
        "trusted": true,
        "_uuid": "7800c8c971414d4c3622293b845676e07ca455c4"
      },
      "cell_type": "code",
      "source": "x_test.shape\npredictions.shape",
      "execution_count": null,
      "outputs": []
    },
    {
      "metadata": {
        "trusted": true,
        "_uuid": "20f0bef87b95c1edcb4974f64a07e0f021963a8e"
      },
      "cell_type": "code",
      "source": "submission={}\nsubmission['ImageId']=np.arange(1,28001)\nsubmission['Label']=predictions\nsubmission=pd.DataFrame(submission)\nsubmission.index=submission.index+1",
      "execution_count": null,
      "outputs": []
    },
    {
      "metadata": {
        "trusted": true,
        "scrolled": true,
        "_uuid": "11d01ab8552be5ec39da7eb85656e7076a31a277"
      },
      "cell_type": "code",
      "source": "submission.to_csv(\"submisision.csv\", index=False)",
      "execution_count": null,
      "outputs": []
    },
    {
      "metadata": {
        "trusted": true,
        "_uuid": "857d67767b0906148c16e4ea1f04392401732f1c"
      },
      "cell_type": "code",
      "source": "submission",
      "execution_count": null,
      "outputs": []
    },
    {
      "metadata": {
        "trusted": true,
        "_uuid": "35a6143a32f6025a483dd47c1e3fab72006c75dc"
      },
      "cell_type": "code",
      "source": "",
      "execution_count": null,
      "outputs": []
    },
    {
      "metadata": {
        "trusted": true,
        "_uuid": "b266847c25194f458165046cea0e367d3f7c60ea"
      },
      "cell_type": "code",
      "source": "",
      "execution_count": null,
      "outputs": []
    },
    {
      "metadata": {
        "_uuid": "1d5210a7ba8af12bb7daf15002b9e20085fb807e"
      },
      "cell_type": "markdown",
      "source": ""
    }
  ],
  "metadata": {
    "kernelspec": {
      "display_name": "Python 3",
      "language": "python",
      "name": "python3"
    },
    "language_info": {
      "name": "python",
      "version": "3.6.6",
      "mimetype": "text/x-python",
      "codemirror_mode": {
        "name": "ipython",
        "version": 3
      },
      "pygments_lexer": "ipython3",
      "nbconvert_exporter": "python",
      "file_extension": ".py"
    }
  },
  "nbformat": 4,
  "nbformat_minor": 1
}